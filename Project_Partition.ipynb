{
  "nbformat": 4,
  "nbformat_minor": 0,
  "metadata": {
    "colab": {
      "provenance": []
    },
    "kernelspec": {
      "name": "python3",
      "display_name": "Python 3"
    },
    "language_info": {
      "name": "python"
    }
  },
  "cells": [
    {
      "cell_type": "code",
      "execution_count": null,
      "metadata": {
        "colab": {
          "base_uri": "https://localhost:8080/"
        },
        "id": "cLLsWCwLnWmE",
        "outputId": "4310c77b-b27d-4ddc-cab3-1b90eaea5168"
      },
      "outputs": [
        {
          "output_type": "stream",
          "name": "stdout",
          "text": [
            "Collecting pyspark\n",
            "  Downloading pyspark-3.5.0.tar.gz (316.9 MB)\n",
            "\u001b[2K     \u001b[90m━━━━━━━━━━━━━━━━━━━━━━━━━━━━━━━━━━━━━━━━\u001b[0m \u001b[32m316.9/316.9 MB\u001b[0m \u001b[31m1.9 MB/s\u001b[0m eta \u001b[36m0:00:00\u001b[0m\n",
            "\u001b[?25h  Preparing metadata (setup.py) ... \u001b[?25l\u001b[?25hdone\n",
            "Requirement already satisfied: py4j==0.10.9.7 in /usr/local/lib/python3.10/dist-packages (from pyspark) (0.10.9.7)\n",
            "Building wheels for collected packages: pyspark\n",
            "  Building wheel for pyspark (setup.py) ... \u001b[?25l\u001b[?25hdone\n",
            "  Created wheel for pyspark: filename=pyspark-3.5.0-py2.py3-none-any.whl size=317425345 sha256=7be14e27972c7b4d96204b050429755b78ae57e584480c1100a679919bd5aa4b\n",
            "  Stored in directory: /root/.cache/pip/wheels/41/4e/10/c2cf2467f71c678cfc8a6b9ac9241e5e44a01940da8fbb17fc\n",
            "Successfully built pyspark\n",
            "Installing collected packages: pyspark\n",
            "Successfully installed pyspark-3.5.0\n",
            "The following additional packages will be installed:\n",
            "  libxtst6 openjdk-8-jre-headless\n",
            "Suggested packages:\n",
            "  openjdk-8-demo openjdk-8-source libnss-mdns fonts-dejavu-extra fonts-nanum fonts-ipafont-gothic\n",
            "  fonts-ipafont-mincho fonts-wqy-microhei fonts-wqy-zenhei fonts-indic\n",
            "The following NEW packages will be installed:\n",
            "  libxtst6 openjdk-8-jdk-headless openjdk-8-jre-headless\n",
            "0 upgraded, 3 newly installed, 0 to remove and 35 not upgraded.\n",
            "Need to get 39.7 MB of archives.\n",
            "After this operation, 144 MB of additional disk space will be used.\n",
            "Selecting previously unselected package libxtst6:amd64.\n",
            "(Reading database ... 121749 files and directories currently installed.)\n",
            "Preparing to unpack .../libxtst6_2%3a1.2.3-1build4_amd64.deb ...\n",
            "Unpacking libxtst6:amd64 (2:1.2.3-1build4) ...\n",
            "Selecting previously unselected package openjdk-8-jre-headless:amd64.\n",
            "Preparing to unpack .../openjdk-8-jre-headless_8u392-ga-1~22.04_amd64.deb ...\n",
            "Unpacking openjdk-8-jre-headless:amd64 (8u392-ga-1~22.04) ...\n",
            "Selecting previously unselected package openjdk-8-jdk-headless:amd64.\n",
            "Preparing to unpack .../openjdk-8-jdk-headless_8u392-ga-1~22.04_amd64.deb ...\n",
            "Unpacking openjdk-8-jdk-headless:amd64 (8u392-ga-1~22.04) ...\n",
            "Setting up libxtst6:amd64 (2:1.2.3-1build4) ...\n",
            "Setting up openjdk-8-jre-headless:amd64 (8u392-ga-1~22.04) ...\n",
            "update-alternatives: using /usr/lib/jvm/java-8-openjdk-amd64/jre/bin/orbd to provide /usr/bin/orbd (orbd) in auto mode\n",
            "update-alternatives: using /usr/lib/jvm/java-8-openjdk-amd64/jre/bin/servertool to provide /usr/bin/servertool (servertool) in auto mode\n",
            "update-alternatives: using /usr/lib/jvm/java-8-openjdk-amd64/jre/bin/tnameserv to provide /usr/bin/tnameserv (tnameserv) in auto mode\n",
            "Setting up openjdk-8-jdk-headless:amd64 (8u392-ga-1~22.04) ...\n",
            "update-alternatives: using /usr/lib/jvm/java-8-openjdk-amd64/bin/clhsdb to provide /usr/bin/clhsdb (clhsdb) in auto mode\n",
            "update-alternatives: using /usr/lib/jvm/java-8-openjdk-amd64/bin/extcheck to provide /usr/bin/extcheck (extcheck) in auto mode\n",
            "update-alternatives: using /usr/lib/jvm/java-8-openjdk-amd64/bin/hsdb to provide /usr/bin/hsdb (hsdb) in auto mode\n",
            "update-alternatives: using /usr/lib/jvm/java-8-openjdk-amd64/bin/idlj to provide /usr/bin/idlj (idlj) in auto mode\n",
            "update-alternatives: using /usr/lib/jvm/java-8-openjdk-amd64/bin/javah to provide /usr/bin/javah (javah) in auto mode\n",
            "update-alternatives: using /usr/lib/jvm/java-8-openjdk-amd64/bin/jhat to provide /usr/bin/jhat (jhat) in auto mode\n",
            "update-alternatives: using /usr/lib/jvm/java-8-openjdk-amd64/bin/jsadebugd to provide /usr/bin/jsadebugd (jsadebugd) in auto mode\n",
            "update-alternatives: using /usr/lib/jvm/java-8-openjdk-amd64/bin/native2ascii to provide /usr/bin/native2ascii (native2ascii) in auto mode\n",
            "update-alternatives: using /usr/lib/jvm/java-8-openjdk-amd64/bin/schemagen to provide /usr/bin/schemagen (schemagen) in auto mode\n",
            "update-alternatives: using /usr/lib/jvm/java-8-openjdk-amd64/bin/wsgen to provide /usr/bin/wsgen (wsgen) in auto mode\n",
            "update-alternatives: using /usr/lib/jvm/java-8-openjdk-amd64/bin/wsimport to provide /usr/bin/wsimport (wsimport) in auto mode\n",
            "update-alternatives: using /usr/lib/jvm/java-8-openjdk-amd64/bin/xjc to provide /usr/bin/xjc (xjc) in auto mode\n",
            "Processing triggers for libc-bin (2.35-0ubuntu3.4) ...\n",
            "/sbin/ldconfig.real: /usr/local/lib/libtbbmalloc.so.2 is not a symbolic link\n",
            "\n",
            "/sbin/ldconfig.real: /usr/local/lib/libtbbmalloc_proxy.so.2 is not a symbolic link\n",
            "\n",
            "/sbin/ldconfig.real: /usr/local/lib/libtbb.so.12 is not a symbolic link\n",
            "\n",
            "/sbin/ldconfig.real: /usr/local/lib/libtbbbind.so.3 is not a symbolic link\n",
            "\n",
            "/sbin/ldconfig.real: /usr/local/lib/libtbbbind_2_5.so.3 is not a symbolic link\n",
            "\n",
            "/sbin/ldconfig.real: /usr/local/lib/libtbbbind_2_0.so.3 is not a symbolic link\n",
            "\n",
            "--2024-02-25 18:55:04--  https://bin.equinox.io/c/4VmDzA7iaHb/ngrok-stable-linux-amd64.zip\n",
            "Resolving bin.equinox.io (bin.equinox.io)... 52.202.168.65, 18.205.222.128, 54.237.133.81, ...\n",
            "Connecting to bin.equinox.io (bin.equinox.io)|52.202.168.65|:443... connected.\n",
            "HTTP request sent, awaiting response... 200 OK\n",
            "Length: 13921656 (13M) [application/octet-stream]\n",
            "Saving to: ‘ngrok-stable-linux-amd64.zip’\n",
            "\n",
            "ngrok-stable-linux- 100%[===================>]  13.28M  54.1MB/s    in 0.2s    \n",
            "\n",
            "2024-02-25 18:55:04 (54.1 MB/s) - ‘ngrok-stable-linux-amd64.zip’ saved [13921656/13921656]\n",
            "\n",
            "Archive:  ngrok-stable-linux-amd64.zip\n",
            "  inflating: ngrok                   \n",
            "Traceback (most recent call last):\n",
            "  File \"<string>\", line 1, in <module>\n",
            "  File \"/usr/lib/python3.10/json/__init__.py\", line 293, in load\n",
            "    return loads(fp.read(),\n",
            "  File \"/usr/lib/python3.10/json/__init__.py\", line 346, in loads\n",
            "    return _default_decoder.decode(s)\n",
            "  File \"/usr/lib/python3.10/json/decoder.py\", line 337, in decode\n",
            "    obj, end = self.raw_decode(s, idx=_w(s, 0).end())\n",
            "  File \"/usr/lib/python3.10/json/decoder.py\", line 355, in raw_decode\n",
            "    raise JSONDecodeError(\"Expecting value\", s, err.value) from None\n",
            "json.decoder.JSONDecodeError: Expecting value: line 1 column 1 (char 0)\n"
          ]
        }
      ],
      "source": [
        "!pip install pyspark\n",
        "!pip install -U -q PyDrive\n",
        "!apt install openjdk-8-jdk-headless -qq\n",
        "import os\n",
        "os.environ[\"JAVA_HOME\"] = \"/usr/lib/jvm/java-8-openjdk-amd64\"\n",
        "\n",
        "from pyspark.sql import SparkSession\n",
        "from pyspark import SparkContext, SparkConf\n",
        "\n",
        "# create the session\n",
        "conf = SparkConf().set(\"spark.ui.port\", \"4050\")\n",
        "\n",
        "# create the context\n",
        "import pyspark\n",
        "sc = pyspark.SparkContext(conf=conf)\n",
        "spark = SparkSession.builder.getOrCreate()\n",
        "\n",
        "!wget https://bin.equinox.io/c/4VmDzA7iaHb/ngrok-stable-linux-amd64.zip\n",
        "!unzip ngrok-stable-linux-amd64.zip\n",
        "get_ipython().system_raw('./ngrok http 4050 &')\n",
        "!sleep 10\n",
        "!curl -s http://localhost:4040/api/tunnels | python3 -c \\\n",
        "    \"import sys, json; print(json.load(sys.stdin)['tunnels'][0]['public_url'])\""
      ]
    },
    {
      "cell_type": "code",
      "source": [
        "!pyspark --version"
      ],
      "metadata": {
        "colab": {
          "base_uri": "https://localhost:8080/"
        },
        "id": "_Qk8jjsMnY8l",
        "outputId": "38b56541-e039-42b3-fb23-5136949d25d2"
      },
      "execution_count": null,
      "outputs": [
        {
          "output_type": "stream",
          "name": "stdout",
          "text": [
            "Welcome to\n",
            "      ____              __\n",
            "     / __/__  ___ _____/ /__\n",
            "    _\\ \\/ _ \\/ _ `/ __/  '_/\n",
            "   /___/ .__/\\_,_/_/ /_/\\_\\   version 3.5.0\n",
            "      /_/\n",
            "                        \n",
            "Using Scala version 2.12.18, OpenJDK 64-Bit Server VM, 1.8.0_392\n",
            "Branch HEAD\n",
            "Compiled by user ubuntu on 2023-09-09T01:53:20Z\n",
            "Revision ce5ddad990373636e94071e7cef2f31021add07b\n",
            "Url https://github.com/apache/spark\n",
            "Type --help for more information.\n"
          ]
        }
      ]
    },
    {
      "cell_type": "code",
      "source": [
        "from google.colab import drive\n",
        "drive.mount('/content/drive')"
      ],
      "metadata": {
        "colab": {
          "base_uri": "https://localhost:8080/"
        },
        "id": "7-D4oL29nY5n",
        "outputId": "5708e4a1-82f4-471d-f95f-e03a7acc5f71"
      },
      "execution_count": null,
      "outputs": [
        {
          "output_type": "stream",
          "name": "stdout",
          "text": [
            "Mounted at /content/drive\n"
          ]
        }
      ]
    },
    {
      "cell_type": "code",
      "source": [
        "path = '/content/drive/MyDrive/Watch_accelerometer.csv'"
      ],
      "metadata": {
        "id": "-jzTKvrPnY4A"
      },
      "execution_count": null,
      "outputs": []
    },
    {
      "cell_type": "code",
      "source": [
        "df = spark.read.csv(path,header = True, inferSchema=True)"
      ],
      "metadata": {
        "id": "KQq28uUTnY1a"
      },
      "execution_count": null,
      "outputs": []
    },
    {
      "cell_type": "code",
      "source": [
        "df.show()"
      ],
      "metadata": {
        "colab": {
          "base_uri": "https://localhost:8080/"
        },
        "id": "DERUXayDnYxS",
        "outputId": "5acd07e1-a287-400d-8df2-9e9f217a126f"
      },
      "execution_count": null,
      "outputs": [
        {
          "output_type": "stream",
          "name": "stdout",
          "text": [
            "+-----+-------------+--------------+-----------+----------+-----------+----+-----+------+-----+\n",
            "|Index| Arrival_Time| Creation_Time|          x|         y|          z|User|Model|Device|   gt|\n",
            "+-----+-------------+--------------+-----------+----------+-----------+----+-----+------+-----+\n",
            "|    0|1424696638740|27920678471000| -0.5650316| -9.572019|-0.61411273|   a| gear|gear_1|stand|\n",
            "|    1|1424696638740|27920681910000|-0.83258367| -9.713276|-0.60693014|   a| gear|gear_1|stand|\n",
            "|    2|1424696638740|27920692014000| -1.0181342| -9.935339|-0.54408234|   a| gear|gear_1|stand|\n",
            "|    3|1424696638741|27920701983000| -1.2228385|-10.142437| -0.5662287|   a| gear|gear_1|stand|\n",
            "|    4|1424696638741|27920711906000| -1.5771804|-10.480618|-0.40282443|   a| gear|gear_1|stand|\n",
            "|    5|1424696638741|27920721675000| -2.1643584|-10.920552|-0.18375498|   a| gear|gear_1|stand|\n",
            "|    6|1424696638741|27920731721000|     -2.973|-11.063007| 0.21188685|   a| gear|gear_1|stand|\n",
            "|    7|1424696638741|27920743061000| -3.8881836| -11.08276|  0.6847417|   a| gear|gear_1|stand|\n",
            "|    8|1424696638742|27920751586000| -4.8919525|-10.890625|    1.01574|   a| gear|gear_1|stand|\n",
            "|    9|1424696638742|27920825873000| -12.600683| -7.674015| -1.1791444|   a| gear|gear_1|stand|\n",
            "|   10|1424696638742|27920827227000|  -9.214086|-4.5567646|  0.2172738|   a| gear|gear_1|stand|\n",
            "|   11|1424696638742|27920830887000|  -9.214086|-4.5567646|  0.2172738|   a| gear|gear_1|stand|\n",
            "|   12|1424696638742|27920840675000|  -9.240421| -4.104859| 0.22325931|   a| gear|gear_1|stand|\n",
            "|   13|1424696638743|27920853362000|  -9.273342|-3.7295678| 0.24061728|   a| gear|gear_1|stand|\n",
            "|   14|1424696638897|27921589696000|    -9.1668|-3.6703112|  -0.729633|   a| gear|gear_1|stand|\n",
            "|   15|1424696639000|27921599563000|  -9.153033|-3.6056678| -0.7326257|   a| gear|gear_1|stand|\n",
            "|   16|1424696639001|27921609644000| -9.1512375|-3.6122518|-0.74519527|   a| gear|gear_1|stand|\n",
            "|   17|1424696639001|27921619491000|  -9.202713|-3.6463692|  -0.729633|   a| gear|gear_1|stand|\n",
            "|   18|1424696639001|27921629562000|  -9.288904|-3.7361517| -0.7266402|   a| gear|gear_1|stand|\n",
            "|   19|1424696639001|27921639447000|    -9.2907|-3.7720647| -0.7302315|   a| gear|gear_1|stand|\n",
            "+-----+-------------+--------------+-----------+----------+-----------+----+-----+------+-----+\n",
            "only showing top 20 rows\n",
            "\n"
          ]
        }
      ]
    },
    {
      "cell_type": "code",
      "source": [
        "print('No. of rows are : ',df.count())\n",
        "print('No of columns are : ',len(df.columns))"
      ],
      "metadata": {
        "colab": {
          "base_uri": "https://localhost:8080/"
        },
        "id": "dD-k4Qb9nlAI",
        "outputId": "1b9a3d36-7124-4eda-800b-e0847b1dbed4"
      },
      "execution_count": null,
      "outputs": [
        {
          "output_type": "stream",
          "name": "stdout",
          "text": [
            "No. of rows are :  3540962\n",
            "No of columns are :  10\n"
          ]
        }
      ]
    },
    {
      "cell_type": "code",
      "source": [
        "df.na.drop().show()"
      ],
      "metadata": {
        "colab": {
          "base_uri": "https://localhost:8080/"
        },
        "id": "SWrNrRa_nk6i",
        "outputId": "6b576334-e0f0-40d4-c570-5a0d2818b650"
      },
      "execution_count": null,
      "outputs": [
        {
          "output_type": "stream",
          "name": "stdout",
          "text": [
            "+-----+-------------+--------------+-----------+----------+-----------+----+-----+------+-----+\n",
            "|Index| Arrival_Time| Creation_Time|          x|         y|          z|User|Model|Device|   gt|\n",
            "+-----+-------------+--------------+-----------+----------+-----------+----+-----+------+-----+\n",
            "|    0|1424696638740|27920678471000| -0.5650316| -9.572019|-0.61411273|   a| gear|gear_1|stand|\n",
            "|    1|1424696638740|27920681910000|-0.83258367| -9.713276|-0.60693014|   a| gear|gear_1|stand|\n",
            "|    2|1424696638740|27920692014000| -1.0181342| -9.935339|-0.54408234|   a| gear|gear_1|stand|\n",
            "|    3|1424696638741|27920701983000| -1.2228385|-10.142437| -0.5662287|   a| gear|gear_1|stand|\n",
            "|    4|1424696638741|27920711906000| -1.5771804|-10.480618|-0.40282443|   a| gear|gear_1|stand|\n",
            "|    5|1424696638741|27920721675000| -2.1643584|-10.920552|-0.18375498|   a| gear|gear_1|stand|\n",
            "|    6|1424696638741|27920731721000|     -2.973|-11.063007| 0.21188685|   a| gear|gear_1|stand|\n",
            "|    7|1424696638741|27920743061000| -3.8881836| -11.08276|  0.6847417|   a| gear|gear_1|stand|\n",
            "|    8|1424696638742|27920751586000| -4.8919525|-10.890625|    1.01574|   a| gear|gear_1|stand|\n",
            "|    9|1424696638742|27920825873000| -12.600683| -7.674015| -1.1791444|   a| gear|gear_1|stand|\n",
            "|   10|1424696638742|27920827227000|  -9.214086|-4.5567646|  0.2172738|   a| gear|gear_1|stand|\n",
            "|   11|1424696638742|27920830887000|  -9.214086|-4.5567646|  0.2172738|   a| gear|gear_1|stand|\n",
            "|   12|1424696638742|27920840675000|  -9.240421| -4.104859| 0.22325931|   a| gear|gear_1|stand|\n",
            "|   13|1424696638743|27920853362000|  -9.273342|-3.7295678| 0.24061728|   a| gear|gear_1|stand|\n",
            "|   14|1424696638897|27921589696000|    -9.1668|-3.6703112|  -0.729633|   a| gear|gear_1|stand|\n",
            "|   15|1424696639000|27921599563000|  -9.153033|-3.6056678| -0.7326257|   a| gear|gear_1|stand|\n",
            "|   16|1424696639001|27921609644000| -9.1512375|-3.6122518|-0.74519527|   a| gear|gear_1|stand|\n",
            "|   17|1424696639001|27921619491000|  -9.202713|-3.6463692|  -0.729633|   a| gear|gear_1|stand|\n",
            "|   18|1424696639001|27921629562000|  -9.288904|-3.7361517| -0.7266402|   a| gear|gear_1|stand|\n",
            "|   19|1424696639001|27921639447000|    -9.2907|-3.7720647| -0.7302315|   a| gear|gear_1|stand|\n",
            "+-----+-------------+--------------+-----------+----------+-----------+----+-----+------+-----+\n",
            "only showing top 20 rows\n",
            "\n"
          ]
        }
      ]
    },
    {
      "cell_type": "code",
      "source": [],
      "metadata": {
        "id": "KpqrENAwsOy1"
      },
      "execution_count": null,
      "outputs": []
    },
    {
      "cell_type": "code",
      "source": [
        "df.write.option(\"header\",\"true\").partitionBy('User').mode(\"overwrite\").csv('/content/drive/MyDrive/data_partition_output')"
      ],
      "metadata": {
        "id": "pomWER1unk4F"
      },
      "execution_count": null,
      "outputs": []
    },
    {
      "cell_type": "code",
      "source": [
        "df3 = spark.read.option('header','true').csv('/content/drive/MyDrive/data_partition_output/User=b')"
      ],
      "metadata": {
        "id": "FiaCQi48nk2A"
      },
      "execution_count": null,
      "outputs": []
    },
    {
      "cell_type": "code",
      "source": [
        "df3.show()"
      ],
      "metadata": {
        "colab": {
          "base_uri": "https://localhost:8080/"
        },
        "id": "NwsfsSjRnkzI",
        "outputId": "af90c120-adfa-4a46-ca1b-b958cceb4929"
      },
      "execution_count": null,
      "outputs": [
        {
          "output_type": "stream",
          "name": "stdout",
          "text": [
            "+-----+-------------+--------------+----------+----------+---------+-----+------+-----+\n",
            "|Index| Arrival_Time| Creation_Time|         x|         y|        z|Model|Device|   gt|\n",
            "+-----+-------------+--------------+----------+----------+---------+-----+------+-----+\n",
            "|    0|1424784652666|16203264658000|0.24181437|  5.681441|7.5848308| gear|gear_1|stand|\n",
            "|    1|1424784652666|16203274131000|0.31423897|  5.713164|7.4854717| gear|gear_1|stand|\n",
            "|    2|1424784652666|16203284818000|0.22804771| 5.6407394|7.5770497| gear|gear_1|stand|\n",
            "|    3|1424784652666|16203293964000|0.22685061| 5.6084175|7.6428905| gear|gear_1|stand|\n",
            "|    9|1424784652667|16203402696000|0.85413146| -8.988432| 3.470994| gear|gear_1|stand|\n",
            "|    7|1424784652667|16203382788000| 0.8170213| -8.917803|3.4554317| gear|gear_1|stand|\n",
            "|    8|1424784652667|16203392278000|0.82719666| -8.953117|3.4889505| gear|gear_1|stand|\n",
            "|    5|1424784652667|16203375476000| 0.4938041| -8.765172|3.7110126| gear|gear_1|stand|\n",
            "|    4|1424784652667|16203304324000| 0.2693477|  5.651513| 7.643489| gear|gear_1|stand|\n",
            "|    6|1424784652667|16203378518000| 0.8170213| -8.917803|3.4554317| gear|gear_1|stand|\n",
            "|   10|1424784652668|16203412175000|0.87567925| -9.038112|3.5655649| gear|gear_1|stand|\n",
            "|   11|1424784652668|16203422589000| 0.8798691| -9.094974| 3.582923| gear|gear_1|stand|\n",
            "|   12|1424784652668|16203435934000| 0.8714894| -9.122507|3.5727475| gear|gear_1|stand|\n",
            "|   13|1424784652668|16203451551000| 0.8595184| -9.165004|3.6218286| gear|gear_1|stand|\n",
            "|   14|1424784652668|16203791204000|  9.403227|-1.8489223|1.4173675| gear|gear_1|stand|\n",
            "|   18|1424784652669|16203831109000|   9.41879|-1.8309658|1.4191631| gear|gear_1|stand|\n",
            "|   17|1424784652669|16203820719000|  9.406818| -1.822586|1.4443022| gear|gear_1|stand|\n",
            "|   19|1424784652669|16203840475000|  9.424775|-1.8602947|1.3988123| gear|gear_1|stand|\n",
            "|   15|1424784652669|16203800779000|  9.387665| -1.834557|1.4335283| gear|gear_1|stand|\n",
            "|   16|1424784652669|16203811202000|  9.387665|-1.8297687|1.4490906| gear|gear_1|stand|\n",
            "+-----+-------------+--------------+----------+----------+---------+-----+------+-----+\n",
            "only showing top 20 rows\n",
            "\n"
          ]
        }
      ]
    },
    {
      "cell_type": "code",
      "source": [
        "df3.count()"
      ],
      "metadata": {
        "colab": {
          "base_uri": "https://localhost:8080/"
        },
        "id": "qSePPHdRrwkG",
        "outputId": "bc059a35-5433-4a5d-942d-d43e4cd2f052"
      },
      "execution_count": null,
      "outputs": [
        {
          "output_type": "execute_result",
          "data": {
            "text/plain": [
              "497544"
            ]
          },
          "metadata": {},
          "execution_count": 22
        }
      ]
    },
    {
      "cell_type": "code",
      "source": [],
      "metadata": {
        "id": "jJFxOsR9rwhF"
      },
      "execution_count": null,
      "outputs": []
    },
    {
      "cell_type": "code",
      "source": [],
      "metadata": {
        "id": "9PAIZFAzrweB"
      },
      "execution_count": null,
      "outputs": []
    }
  ]
}